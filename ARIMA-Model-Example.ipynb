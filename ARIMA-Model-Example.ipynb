{
 "cells": [
  {
   "cell_type": "markdown",
   "metadata": {},
   "source": [
    "# ARIMA Model Example\n",
    "\n",
    "* AR = Auto-Regressive\n",
    "* I = Integrated (differencing)\n",
    "* MA = Moving Average\n",
    "\n",
    "THE MOST GENERAL CLASS OF MODELS FOR FORECASTING A TIME SERIES WHICH CAN BE MADE TO BE STATIONARY\n",
    "\n",
    "* Statistical properties (mean, variance) constant overt time\n",
    "* ‘its short-term random time patterns always look the same in a statistical sense’\n",
    "* Autocorrelation function & power spectrum remain constant over time\n",
    "* Ok to do non-linear transformations to get there\n",
    "* ARIMA model can be viewed as a combination of signal ad noise\n",
    "* Extrapolate the signal to obtain forecasts"
   ]
  },
  {
   "cell_type": "markdown",
   "metadata": {},
   "source": [
    "### An Auto-Regressive Process\n",
    "\n",
    "$$X_t=\\phi_{1}X_{t-1}+...+\\phi_{P}X_{t-P}+\\epsilon_t$$\n",
    "\n",
    "This is a stationary process if $\\text{abs}(\\phi)<1$"
   ]
  },
  {
   "cell_type": "code",
   "execution_count": 2,
   "metadata": {},
   "outputs": [],
   "source": [
    "from statsmodels.tsa.arima_model import ARIMA"
   ]
  },
  {
   "cell_type": "code",
   "execution_count": null,
   "metadata": {},
   "outputs": [],
   "source": []
  },
  {
   "cell_type": "code",
   "execution_count": null,
   "metadata": {},
   "outputs": [],
   "source": []
  }
 ],
 "metadata": {
  "kernelspec": {
   "display_name": "Python (tf)",
   "language": "python",
   "name": "tf"
  },
  "language_info": {
   "codemirror_mode": {
    "name": "ipython",
    "version": 3
   },
   "file_extension": ".py",
   "mimetype": "text/x-python",
   "name": "python",
   "nbconvert_exporter": "python",
   "pygments_lexer": "ipython3",
   "version": "3.6.7"
  }
 },
 "nbformat": 4,
 "nbformat_minor": 2
}
